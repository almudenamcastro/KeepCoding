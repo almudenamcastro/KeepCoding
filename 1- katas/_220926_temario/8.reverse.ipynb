{
 "cells": [
  {
   "cell_type": "markdown",
   "id": "dcf5a062-6028-4250-8ac0-f0ec558c5762",
   "metadata": {},
   "source": [
    "# Invertir listas y matrices"
   ]
  },
  {
   "cell_type": "code",
   "execution_count": 1,
   "id": "2ccfb2bf-6e6a-4b82-930a-5f3d719dee83",
   "metadata": {},
   "outputs": [],
   "source": [
    "d = [1,2,3,4]"
   ]
  },
  {
   "cell_type": "code",
   "execution_count": 2,
   "id": "f1222a18-8e48-4a50-8975-a983ccf45c38",
   "metadata": {},
   "outputs": [],
   "source": [
    "d.reverse()"
   ]
  },
  {
   "cell_type": "code",
   "execution_count": 3,
   "id": "4c7dc0ed-2920-4080-94f1-8e09c04ea0dc",
   "metadata": {},
   "outputs": [
    {
     "data": {
      "text/plain": [
       "[4, 3, 2, 1]"
      ]
     },
     "execution_count": 3,
     "metadata": {},
     "output_type": "execute_result"
    }
   ],
   "source": [
    "d"
   ]
  },
  {
   "cell_type": "code",
   "execution_count": 4,
   "id": "84c3658c-0ba8-4e79-92f3-59b973d76457",
   "metadata": {},
   "outputs": [
    {
     "data": {
      "text/plain": [
       "<list_reverseiterator at 0x7fc37ff9b130>"
      ]
     },
     "execution_count": 4,
     "metadata": {},
     "output_type": "execute_result"
    }
   ],
   "source": [
    "reversed([1,2,3,4])"
   ]
  },
  {
   "cell_type": "code",
   "execution_count": 5,
   "id": "80e20481-c2f6-402f-aa61-abc561230a24",
   "metadata": {},
   "outputs": [
    {
     "data": {
      "text/plain": [
       "[45, 3, 2, 1]"
      ]
     },
     "execution_count": 5,
     "metadata": {},
     "output_type": "execute_result"
    }
   ],
   "source": [
    "list(reversed([1,2,3,45]))"
   ]
  },
  {
   "cell_type": "code",
   "execution_count": 6,
   "id": "715ce51c-628c-4ee3-8c94-a8825f143294",
   "metadata": {},
   "outputs": [],
   "source": [
    "def reverse_list(l):\n",
    "    return list(reversed(l))"
   ]
  },
  {
   "cell_type": "code",
   "execution_count": 7,
   "id": "465e9a53-4a44-4bcc-9c25-43fb20ed1243",
   "metadata": {},
   "outputs": [],
   "source": [
    "def reverse_matrix(matrix):\n",
    "    accum = []\n",
    "    for sublist in matrix:\n",
    "        accum.append(reverse_list(sublist))\n",
    "    return accum"
   ]
  },
  {
   "cell_type": "code",
   "execution_count": null,
   "id": "febf1493-f5c0-41ea-8cdf-38936d454031",
   "metadata": {},
   "outputs": [],
   "source": []
  }
 ],
 "metadata": {
  "kernelspec": {
   "display_name": "Python 3 (ipykernel)",
   "language": "python",
   "name": "python3"
  },
  "language_info": {
   "codemirror_mode": {
    "name": "ipython",
    "version": 3
   },
   "file_extension": ".py",
   "mimetype": "text/x-python",
   "name": "python",
   "nbconvert_exporter": "python",
   "pygments_lexer": "ipython3",
   "version": "3.10.7"
  }
 },
 "nbformat": 4,
 "nbformat_minor": 5
}
