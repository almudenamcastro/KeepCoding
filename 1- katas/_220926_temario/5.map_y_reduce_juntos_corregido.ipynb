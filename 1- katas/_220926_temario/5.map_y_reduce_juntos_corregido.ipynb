{
 "cells": [
  {
   "cell_type": "markdown",
   "id": "135db383-0714-4069-9d06-95512092bfdf",
   "metadata": {},
   "source": [
    "# Trabajando Juntos: map, reduce y filter\n",
    "\n",
    "![](https://2.bp.blogspot.com/-QFj3KGiRAAI/TYqMl92KOtI/AAAAAAAADnU/v4WS_SI0vvs/s1600/mapreduce.png)\n",
    "\n"
   ]
  },
  {
   "cell_type": "markdown",
   "id": "2db9c65f-e960-4e08-91af-5eb369701ce9",
   "metadata": {},
   "source": [
    "## Gestión de un restaurante de comida rápida\n",
    "\n",
    "Supongamos que mientras te preparas para entrar en le mercado de la programación, te contratan para llevar un restaurante de comida rápida. El producto final es una hamburguesa y lleva los siguientes ingredientes:\n",
    "\n",
    "* pan\n",
    "* loncha de tomate\n",
    "* loncha de pepinillo\n",
    "* loncha de cebolla\n",
    "* carne\n",
    "\n",
    "Es decir, cada producto final es la combinación de 5 ingredientes, cada uno de los cuales tiene que ser procesado previamente. Como sabes programación, el problema de cómo optimizar la producción de hamburguesas está chupado. \n",
    "\n",
    "Preparas 6 mesas. Cinco para los ingredientes y una final. Cada mesa está atendida por un empleado.\n",
    "\n",
    "* Mesa del pan: hay una lista de panes que el empleado transforma en una lista de panes cortados por la mitad.\n",
    "* Mesa del tomate: lista de tomates que el empleado transforma en una lista de lonchas\n",
    "* Mesa del pepinillo: lista de pepinillos que el empleado transforma en una lista de lonchas\n",
    "* Mesa de la cebolla: lista de cebollas que el empleado transforma en una lista de lonchas\n",
    "* Mesa de la carne: una lista de bolas de carne molida que el empleado da forma y prepara a la plancha y transforma en una lista... ya lo habrás pillado. ;-)\n",
    "\n",
    "En la última mesa, el empleado hace lo siguiente: va pillando un ingrediente de cada una de las otras mesas, y ensambla, o *reduce* (lo pillas, ¿verdad?) esos 5 ingredientes, a 1 hamburguesa lista. Su resultado final es una lista de hamburguesas.\n",
    "\n",
    "\n",
    "\n",
    "Cada una de las 5 primeras mesas es una lista que se transforma en otra (ingrediantes crudos -> ingredientes preparados). El empleado correspondiente, se pasea por la mesa, produciendo la nueva lista.\n",
    "\n",
    "La mesa final es una lista de ingredientes finales. El empleado va a cada una de las mess de ingredientes, pilla uno, y forma (en su mesa) una lista de ingredientes preparados. Luego se mueve por la mesa, reduciendo esos ingredientes al producto final.\n",
    "\n"
   ]
  },
  {
   "cell_type": "markdown",
   "id": "64094a61-c885-4edd-a90b-95477af86bf3",
   "metadata": {},
   "source": [
    "## Puntos Importantes\n",
    "\n",
    "Ya te habrás dado cuenta que hemso puesto en práctica nuestros conocimientos de computación para crear la maquinaria perfecta para producir hambuguesas. Algunas cosas qu ehay que destacar:\n",
    "\n",
    "* Las mesas `map` pre-procesan los ingredientes / datos\n",
    "* La mesa `reduce` aprovecha el trabajo hecho por las `map` y combina sus resultados en un producto final.\n",
    "\n",
    "Algo *muy imporante* que tal vez no hayas visto, pero que es clave para la eficiencia del sistema es el siguiente:\n",
    "\n",
    "> Las mesas NO dependen la una de la otra\n",
    "\n",
    "Esto quiere decir que:\n",
    "\n",
    "* Mientras no se queden sin ingredientes, el que corta el pan no tiene que esperar que el del tomate termine, etc...\n",
    "* Mientras no se queden sin ingredientes, se pueden producir pequeños atrasos en una mesa sin que el sistema pare. Es decir, el de lso pepinillos puede ir a mear sin que se pare todo (hay suficientes penillos cortados en la lista de pepinillos cortados como para aguantar un poco)\n",
    "* Cada mesa puede ser atendida por personas diferentes\n",
    "* Esas personas, mientras cada una haga su trabajo, no necesitan comunicarse ni ponerse de acuerdo en nada.\n",
    "\n",
    "----------------------------"
   ]
  },
  {
   "cell_type": "markdown",
   "id": "9a474a2c-237e-4869-b20d-4ccbdccd6c60",
   "metadata": {},
   "source": [
    "## Ejemplo con Código\n",
    "\n",
    "Te contratan en una empresa que vende pantuflas calefactadas por usb para programadores. Las ventas mensuales vienen desglosadas por divisa (se vende en USD, EUR, GBP y JPI) . Todo ello viene en una lista, cuyos elementos son listas con las ventas en dichas divisas y en ese orden:"
   ]
  },
  {
   "cell_type": "code",
   "execution_count": 16,
   "id": "cee06198-f353-423a-9e0e-9edc986f645b",
   "metadata": {},
   "outputs": [],
   "source": [
    "sales = [[2300, 345, 1949, 2222, 5939], [5252, 7886, 6363, 4432, 6653], [6262626, 47774, 72727, 636363], [363636, 4828, 199333, 7264]]\n",
    "[total_end_usd, total_en_euro, toal_enlibras, total_enyen]"
   ]
  },
  {
   "cell_type": "markdown",
   "id": "3247e875-5146-4bc5-bc7f-8edec19ea621",
   "metadata": {},
   "source": [
    "Transfórmalo en  una venta de totales, usando tu propio map, reduce y filter"
   ]
  },
  {
   "cell_type": "code",
   "execution_count": 17,
   "id": "dfc758d6-b43c-4449-9bf2-be8f9fda8cbf",
   "metadata": {},
   "outputs": [],
   "source": [
    "def my_filter(elements, predicate):\n",
    "    \"\"\"\n",
    "    recibe una lista y un predicado. devuelve otra lista con aquellos elementos\n",
    "    que superan el test del predicado\n",
    "    \"\"\"\n",
    "    accum = [] \n",
    "    for element in elements:\n",
    "        if predicate(element):\n",
    "            accum.append(element)\n",
    "    return accum\n",
    "\n",
    "def my_map(seq,transformer):\n",
    "    new_seq = []\n",
    "    for element in seq:\n",
    "        new_seq.append(transformer(element))\n",
    "    return new_seq\n",
    "\n",
    "def my_reduce(seq, initial_value, combinator):\n",
    "    \"\"\"\n",
    "    Recorre una lista llamada seq y va combinando los valores mediante un \n",
    "    combinador (que no sabemos muy bien qué es, pero que se recibe como parámetro. \n",
    "    Devuelve el valor reducido o combinado de todos los elementos de la lista.\n",
    "    \"\"\"\n",
    "    accum = initial_value\n",
    "    for element in seq:\n",
    "        accum = combinator(accum, element) \n",
    "    return accum"
   ]
  },
  {
   "cell_type": "code",
   "execution_count": 27,
   "id": "f112dc42-4241-4ee3-9922-1edbc73e8036",
   "metadata": {},
   "outputs": [],
   "source": [
    "def make_sub_totals(list_of_sales):\n",
    "    \"\"\"\n",
    "    devuelve una lista con los totales en su propia divisa\n",
    "    \"\"\"\n",
    "    return my_map(list_of_sales, lambda list_of_nums : my_reduce(list_of_nums, 0, lambda a, b: a + b))\n",
    "        \n",
    "\n",
    "def convert_to_usd(subtotals, rates):\n",
    "    \"\"\"\n",
    "    Convierte un lista de USD, EUR, GBP. JYI\n",
    "    \"\"\"\n",
    "    values_in_usd = []\n",
    "    # Recorro la lista de totales\n",
    "    for index, sub_total in enumerate(subtotals):\n",
    "        # multiplico cada uno por su tsas de conversión correspondiente\n",
    "        values_in_usd.append(sub_total * rates[index])\n",
    "        \n",
    "    return values_in_usd\n",
    "\n",
    "    \n",
    "def grand_total_usd(sales):\n",
    "    \"\"\"\n",
    "    Devuelve un total en USD\n",
    "    \"\"\"\n",
    "    return my_reduce(sales, 0, lambda a, b: a + b)\n"
   ]
  },
  {
   "cell_type": "code",
   "execution_count": 29,
   "id": "16ba3d94-c8af-46cd-835d-e2e883084c56",
   "metadata": {},
   "outputs": [
    {
     "data": {
      "text/plain": [
       "5667742.21"
      ]
     },
     "execution_count": 29,
     "metadata": {},
     "output_type": "execute_result"
    }
   ],
   "source": [
    "sub_totals = make_sub_totals(sales)\n",
    "sub_totals_in_usd = convert_to_usd(sub_totals, [1, 1.1, 0.8, 0.01])\n",
    "grand_total_usd(sub_totals_in_usd)"
   ]
  },
  {
   "cell_type": "markdown",
   "id": "0da37387-0705-45c6-aed9-27250045bc2c",
   "metadata": {},
   "source": [
    "# Los Map, Reduce y Filter de Python\n",
    "\n",
    "\n",
    "* `map` map(function, iterables)\n",
    "* `reduce` from functools import reduce(funtion, iterable, initial_value)\n",
    "* `filter` filter(function, iterable)\n",
    "\n",
    "¡No devuelven listas! ¿Por qué?\n",
    "\n",
    "\n",
    "Por optimización. Deveulven un objeto intermedio que no hace nada. Se queda esperando por si le quieres pedir otra transformación y así recorrer la lista una sola vez.\n",
    "\n",
    "------------------"
   ]
  },
  {
   "cell_type": "code",
   "execution_count": 31,
   "id": "09f10420-d508-447b-90ae-660fa9dafdd2",
   "metadata": {},
   "outputs": [
    {
     "data": {
      "text/plain": [
       "<map at 0x7f82947c3340>"
      ]
     },
     "execution_count": 31,
     "metadata": {},
     "output_type": "execute_result"
    }
   ],
   "source": [
    "# Le encadeno dos maps, y no hace NADA\n",
    "map(lambda x: x + 50, map(lambda x: x + 1, [1,2,3,4,5]))"
   ]
  },
  {
   "cell_type": "code",
   "execution_count": 33,
   "id": "fa451599-d568-4d33-882d-40c77d800378",
   "metadata": {},
   "outputs": [
    {
     "data": {
      "text/plain": [
       "[52, 53, 54, 55, 56]"
      ]
     },
     "execution_count": 33,
     "metadata": {},
     "output_type": "execute_result"
    }
   ],
   "source": [
    "# Cunado le obligo, diciendo que quiero una lista, ahí recorre la lista un asola vez, aplicando ambas transformaciones.\n",
    "# Listo que es él...\n",
    "list(map(lambda x: x + 50, map(lambda x: x + 1, [1,2,3,4,5])))"
   ]
  },
  {
   "cell_type": "code",
   "execution_count": null,
   "id": "74277687-46b5-4f5f-a8a8-7e72eb259b58",
   "metadata": {},
   "outputs": [],
   "source": []
  }
 ],
 "metadata": {
  "kernelspec": {
   "display_name": "Python 3 (ipykernel)",
   "language": "python",
   "name": "python3"
  },
  "language_info": {
   "codemirror_mode": {
    "name": "ipython",
    "version": 3
   },
   "file_extension": ".py",
   "mimetype": "text/x-python",
   "name": "python",
   "nbconvert_exporter": "python",
   "pygments_lexer": "ipython3",
   "version": "3.10.7"
  }
 },
 "nbformat": 4,
 "nbformat_minor": 5
}
