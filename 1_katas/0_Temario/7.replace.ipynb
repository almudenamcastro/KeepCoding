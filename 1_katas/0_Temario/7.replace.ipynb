{
 "cells": [
  {
   "cell_type": "markdown",
   "id": "2bad90e3-1d62-467f-918f-76d7e3e4f5f5",
   "metadata": {},
   "source": [
    "# Función `replace`\n",
    "\n",
    "Prima hermana de `filter`. Recibe una lista, un predicado y un valor nuevo. Todo elemento que pase el test del predicado, será sustituido por el nuevo valor.\n",
    "\n",
    "Devuelve una lista nueva, sin alterar la existente.\n",
    "\n"
   ]
  },
  {
   "cell_type": "code",
   "execution_count": 1,
   "id": "a1d5f9a2-6489-445d-b476-caec31ed55d6",
   "metadata": {},
   "outputs": [],
   "source": [
    "def replace(elements, predicate, new_value):\n",
    "    # creamos un acumulador\n",
    "    new_list = []\n",
    "    # recorremos la lista original\n",
    "    for element in elements:\n",
    "        # si un elemento, pasa el test, lo cambio por el nuevo\n",
    "        if predicate(element):\n",
    "            new_list.append(new_value)\n",
    "        # si no, se queda tal cual\n",
    "        else:\n",
    "            new_list.append(element)\n",
    "    # devuelvo el acumulador\n",
    "    return new_list"
   ]
  },
  {
   "cell_type": "code",
   "execution_count": 2,
   "id": "5b929b91-b3b3-47d8-8d51-8b6aeb20a145",
   "metadata": {},
   "outputs": [
    {
     "data": {
      "text/plain": [
       "[1, 23, 3, [], 5, [], 7, []]"
      ]
     },
     "execution_count": 2,
     "metadata": {},
     "output_type": "execute_result"
    }
   ],
   "source": [
    "old_nums = [1,23,3,4,5,6,7,8]\n",
    "# cambiar los números pares por una lista vacía\n",
    "replace(old_nums, lambda x: x % 2 == 0, [])"
   ]
  },
  {
   "cell_type": "code",
   "execution_count": 3,
   "id": "79a69e7d-f0ab-47fa-992d-eebca0710022",
   "metadata": {},
   "outputs": [
    {
     "data": {
      "text/plain": [
       "['', '', '', 4, '', 6, '', 8]"
      ]
     },
     "execution_count": 3,
     "metadata": {},
     "output_type": "execute_result"
    }
   ],
   "source": [
    "# cambiar los números impares por una cadena vacía\n",
    "replace(old_nums, lambda x: x % 2 != 0, '')"
   ]
  },
  {
   "cell_type": "code",
   "execution_count": 5,
   "id": "a70d78c2-6055-4f4c-9a3f-6e8019842b7a",
   "metadata": {},
   "outputs": [
    {
     "data": {
      "text/plain": [
       "['o', 'x', '-', '-']"
      ]
     },
     "execution_count": 5,
     "metadata": {},
     "output_type": "execute_result"
    }
   ],
   "source": [
    "# cambiar None por '-'\n",
    "column = ['o', 'x', None, None]\n",
    "replace(column, lambda x: x == None, '-')"
   ]
  },
  {
   "cell_type": "markdown",
   "id": "fcab41ec-88c0-4fce-950e-4c36cf5798aa",
   "metadata": {},
   "source": [
    "## Función `replace_matrix`\n",
    "\n",
    "Aplica replace a todas las listas de una matriz y te devuelve una nueva matriz.\n",
    "\n"
   ]
  },
  {
   "cell_type": "code",
   "execution_count": 6,
   "id": "af863c4e-5435-47ee-aa4a-5c587b2ab9d8",
   "metadata": {},
   "outputs": [],
   "source": [
    "def replace_matrix(matrix, predicate, new_element):\n",
    "    accum = []\n",
    "    for sublist in matrix:\n",
    "        accum.append(replace(sublist, predicate, new_element))\n",
    "    return accum"
   ]
  },
  {
   "cell_type": "code",
   "execution_count": 8,
   "id": "d8359d26-a093-45fd-880a-953f699665c7",
   "metadata": {},
   "outputs": [
    {
     "data": {
      "text/plain": [
       "[[1, '-', 3, '-'], ['-', 5, '-', 7, '-'], ['-', '-', '-', '-']]"
      ]
     },
     "execution_count": 8,
     "metadata": {},
     "output_type": "execute_result"
    }
   ],
   "source": [
    "old_matrix = [[1,2,3,4],[4,5,6,7,8],[98,556, 52, 42]]\n",
    "replace_matrix(old_matrix, lambda x: x % 2 == 0, '-')"
   ]
  },
  {
   "cell_type": "code",
   "execution_count": null,
   "id": "fceaf28d-2502-48fd-8ad7-28898f348b48",
   "metadata": {},
   "outputs": [],
   "source": []
  }
 ],
 "metadata": {
  "kernelspec": {
   "display_name": "Python 3 (ipykernel)",
   "language": "python",
   "name": "python3"
  },
  "language_info": {
   "codemirror_mode": {
    "name": "ipython",
    "version": 3
   },
   "file_extension": ".py",
   "mimetype": "text/x-python",
   "name": "python",
   "nbconvert_exporter": "python",
   "pygments_lexer": "ipython3",
   "version": "3.10.7"
  }
 },
 "nbformat": 4,
 "nbformat_minor": 5
}
