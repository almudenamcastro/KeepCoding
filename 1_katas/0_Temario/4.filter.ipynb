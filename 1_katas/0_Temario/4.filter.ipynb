{
 "cells": [
  {
   "cell_type": "markdown",
   "id": "5e84b02c-4371-417e-a484-2eed6679774e",
   "metadata": {},
   "source": [
    "# Filter: No puedes pasar\n",
    "\n",
    "![](https://cdn.cultofandroid.com/wp-content/uploads/2012/11/bouncer1.jpg)\n",
    "\n",
    "-------------------"
   ]
  },
  {
   "cell_type": "markdown",
   "id": "83f07d72-6fb7-4538-abd2-dec21d9ca6e7",
   "metadata": {},
   "source": [
    "Hemos visto ya dos funciones clásicas:\n",
    "\n",
    "* `map`\n",
    "* `reduce`\n",
    "\n",
    "`map` procesa una lista y produce una nueva, con el mismo tamaño, pero con los elementos transformados.\n",
    "\n",
    "`reduce` procesa una lista y combina todos sus elementos en uno nuevo. Tampoco modifica la lista procesada.\n",
    "\n",
    "\n",
    "Nos falta el tercero en discordia: `filter`.\n",
    "\n",
    "\n",
    "## La función `filter`\n",
    "\n",
    "La función `filter` hace lo siguiente:\n",
    "\n",
    "* recibe una lista y un `predicado` (un predicado es una función que devuelve un booleano)\n",
    "* ese `predicado` es un test que cada elemento de la lista debe de pasar\n",
    "* el `predicado` es una función qe recib eun sólo parámetro (el elemento) y devuele un booleano\n",
    "* `filter` devuelve una nueva lista, con **tan sólo los elementos que superaron el test**, es decir, los que devolvieron `True` al predicado.\n",
    "\n",
    "### Ejemplos de predicado\n",
    "\n",
    "`lambda x: x < 10`  Recibe un número y devuelve `True`si el número es menor que 10.\n",
    "\n",
    "`lambda l: len(l) > 3` Recibe una lista y devuelve `True` si su longitud es mayor que 3 "
   ]
  },
  {
   "cell_type": "code",
   "execution_count": 28,
   "id": "ea1b0cea-dc11-4adb-b8d5-26bf8f579242",
   "metadata": {},
   "outputs": [
    {
     "data": {
      "text/plain": [
       "[False, False, True, True, False]"
      ]
     },
     "execution_count": 28,
     "metadata": {},
     "output_type": "execute_result"
    }
   ],
   "source": [
    "def is_high_probability(probability):\n",
    "    \"\"\"\n",
    "    Recibe una probabilidad (número entre 0 y 1.0) y devuelve\n",
    "    True si dicha probabilidad está en el rango correcto y es alta (mayor o igual a 0.8)\n",
    "    \"\"\"\n",
    "    if probability > 1 or probability < 0:\n",
    "        result = False\n",
    "    else:\n",
    "        result = (probability >= 0.8)\n",
    "    return result\n",
    "        \n",
    "\n",
    "# Pruebas\n",
    "[is_high_probability(7), is_high_probability(-4), is_high_probability(0.8), is_high_probability(0.9), is_high_probability(0.7)]\n"
   ]
  },
  {
   "cell_type": "markdown",
   "id": "a23895c1-c9a1-446a-a107-9066fe060cf5",
   "metadata": {
    "tags": []
   },
   "source": [
    "## Implementación de `filter`\n",
    "\n",
    "Rellena el patrón de la función `filter`. recuerda lo siguiente:\n",
    "\n",
    "* recibe una lista y un predicado\n",
    "* procesa una lista\n",
    "* construye y devuelve otra, con aquellos elementos que supera el test del predicado\n",
    "\n",
    "La llamaremos `my_filter` para no hacer sombra al `filter` propio de Python.\n",
    "\n",
    "```\n",
    "def my_filter(elements, predicate):\n",
    "    \"\"\"\n",
    "    recibe una lista y un predicado. devuelve otra lista con aquellos elementos\n",
    "    que superan el test del predicado\n",
    "    \"\"\"\n",
    "    accum = ???? #qué se va acumulando? cial es el valor inicial?\n",
    "    for element in elements:\n",
    "        ??? # qué se hace en con cada elemento??\n",
    "    return accum\n",
    "```\n",
    "\n",
    "\n",
    "¿Sabrías hacerlo también con un `while`?"
   ]
  },
  {
   "cell_type": "markdown",
   "id": "4453433e-38ce-4c88-b47a-2fae64738ce2",
   "metadata": {},
   "source": [
    "---------------------------------"
   ]
  },
  {
   "cell_type": "code",
   "execution_count": 27,
   "id": "e5d373c2-1d23-4f23-8cec-70a1501769dd",
   "metadata": {},
   "outputs": [],
   "source": [
    "def filter_for(elements, predicate):\n",
    "    \"\"\"\n",
    "    recibe una lista y un predicado. devuelve otra lista con aquellos elementos\n",
    "    que superan el test del predicado\n",
    "    \"\"\"\n",
    "    accum  = []\n",
    "    for element in elements:\n",
    "        if predicate(element):\n",
    "            accum.append(element)\n",
    "    return accum\n",
    "    "
   ]
  },
  {
   "cell_type": "code",
   "execution_count": 30,
   "id": "3d0fecef-b48a-4edf-b7d8-f808bfaff98c",
   "metadata": {},
   "outputs": [
    {
     "data": {
      "text/plain": [
       "[0.8, 0.1, 0.2, 0.9]"
      ]
     },
     "execution_count": 30,
     "metadata": {},
     "output_type": "execute_result"
    }
   ],
   "source": [
    "filter_for([0.8, 0.1, 0.2, 0.9], lambda x: x > 0)"
   ]
  },
  {
   "cell_type": "code",
   "execution_count": 34,
   "id": "934dcc44-118d-4c44-8b04-7493d4dae61e",
   "metadata": {},
   "outputs": [
    {
     "data": {
      "text/plain": [
       "[0.8, 0.9]"
      ]
     },
     "execution_count": 34,
     "metadata": {},
     "output_type": "execute_result"
    }
   ],
   "source": [
    "def filter_w(elements, predicate):\n",
    "    accum = []\n",
    "    index = 0\n",
    "    while index < len(elements):\n",
    "        element = elements[index]\n",
    "        if predicate(element):\n",
    "            accum.append(element)\n",
    "        index = index + 1\n",
    "    return accum\n",
    "\n",
    "\n",
    "filter_w([0.8, 0.1, 0.2, 0.9],    is_high_probability)"
   ]
  },
  {
   "cell_type": "markdown",
   "id": "a9d7b091-3885-4827-b74e-a37bbbbff83e",
   "metadata": {},
   "source": [
    "## Ejercicios\n",
    "\n"
   ]
  },
  {
   "cell_type": "code",
   "execution_count": 40,
   "id": "e54209c8-f3d9-4451-9bf4-a48f2a87bd57",
   "metadata": {},
   "outputs": [],
   "source": [
    "def reduce(seq, initial_value, combinator):\n",
    "    \"\"\"\n",
    "    Recorre una lista llamada seq y va combinando los valores mediante un \n",
    "    combinador (que no sabemos muy bien qué es, pero que se recibe como parámetro. \n",
    "    Devuelve el valor reducido o combinado de todos los elementos de la lista.\n",
    "    \"\"\"\n",
    "    accum = initial_value\n",
    "    for element in seq:\n",
    "        accum = combinator(accum, element) \n",
    "    return accum"
   ]
  },
  {
   "cell_type": "markdown",
   "id": "d0d3ef44-360d-4b44-b0b1-fa360566bb04",
   "metadata": {},
   "source": [
    "Usando tu `my_filter`, crea, apartir de `numbers`,  una nueva lista con sólo los números pares."
   ]
  },
  {
   "cell_type": "code",
   "execution_count": 35,
   "id": "cbe54015-9f8b-4c42-a8dc-36ad009f8a76",
   "metadata": {},
   "outputs": [],
   "source": [
    "# lista inicial\n",
    "numbers = [1,2,3,4,5,6,7,8,9,11, 12,14,19,12]"
   ]
  },
  {
   "cell_type": "markdown",
   "id": "c661d214-f541-484a-8cd4-fa93b12bb317",
   "metadata": {},
   "source": [
    "¿Cómo calcularías el total de números pares de la lista original? Usa `my_filter` y tu `reduce`.\n",
    "\n",
    "¿Y el total de números *impares*?\n",
    "\n",
    "-----------"
   ]
  },
  {
   "cell_type": "code",
   "execution_count": 47,
   "id": "aee458c2-052a-4d80-9579-0b4889aee0c4",
   "metadata": {},
   "outputs": [
    {
     "data": {
      "text/plain": [
       "'hola'"
      ]
     },
     "execution_count": 47,
     "metadata": {},
     "output_type": "execute_result"
    }
   ],
   "source": [
    "def is_even(num):\n",
    "    return num % 2 == 0\n",
    "\n",
    "\n",
    "filtered = filter_w(numbers, lambda x : not is_even(x))\n",
    "\n",
    "reduce(filtered, 0, lambda a, b : a + b)\n"
   ]
  },
  {
   "cell_type": "markdown",
   "id": "53553298-bdec-4aa4-a898-aff96644b46a",
   "metadata": {},
   "source": [
    "--------------------------\n",
    "\n",
    "Te contrataron en un banco como Data Analyst y tu primer trabajo es recibir una lista (larguísima) que contiene la probabilidad, calculada mediante un modelo de ML, de que un cliente deje de pagar su hipoteca.\n",
    "\n",
    "Tu trabajo es quitarle esos muertos al banco, eliminando de la lista los que tengan una probabilidad inferior a un valor que te pasan."
   ]
  },
  {
   "cell_type": "code",
   "execution_count": 57,
   "id": "88571ab8-7904-44de-a9fc-eb7cea7a7a4d",
   "metadata": {},
   "outputs": [],
   "source": [
    "import random\n",
    "\n",
    "# lista de probabilidades (usando \"list comprehensions\")\n",
    "probs = [random.random() for i in range(100) ]\n"
   ]
  },
  {
   "cell_type": "code",
   "execution_count": 62,
   "id": "0463a399-842f-4739-b6cc-4eabe5e73128",
   "metadata": {},
   "outputs": [
    {
     "data": {
      "text/plain": [
       "[0.6674960131546082,\n",
       " 0.7653109851963831,\n",
       " 0.809418869219837,\n",
       " 0.7918379428998756,\n",
       " 0.7239420765869926,\n",
       " 0.6306438084774322,\n",
       " 0.7027909574590818,\n",
       " 0.9103128044099225,\n",
       " 0.9176162004243669,\n",
       " 0.8285800732167836,\n",
       " 0.7539501409937219,\n",
       " 0.6098885247362172,\n",
       " 0.9230805231350537,\n",
       " 0.6892667045912663,\n",
       " 0.689575208458878,\n",
       " 0.6588772798832037,\n",
       " 0.8895910240263617,\n",
       " 0.6822380375123722,\n",
       " 0.6993506075500984,\n",
       " 0.7570036825758776,\n",
       " 0.8281055364056605,\n",
       " 0.8492818398530408,\n",
       " 0.9705784748592451,\n",
       " 0.7656850378651747,\n",
       " 0.7168549660118906,\n",
       " 0.9866671787507453,\n",
       " 0.8911528799482906,\n",
       " 0.8272411586444987,\n",
       " 0.7176452553029687,\n",
       " 0.802102275119469,\n",
       " 0.7550020125554954]"
      ]
     },
     "execution_count": 62,
     "metadata": {},
     "output_type": "execute_result"
    }
   ],
   "source": [
    "def remove_bad_customers(probabilities, threshold):\n",
    "    \"\"\"\n",
    "    Recibe una lista de probabilidades de pago y un límite (threshold)\n",
    "    Debe devolver una nueva lista con aquellas probabilidades que son iguales\n",
    "    o mayores al threshold\n",
    "    \"\"\"\n",
    "    return filter_for(probabilities, lambda x : x >= threshold) # rellena esto\n",
    "\n",
    "\n",
    "remove_bad_customers(probs, 0.6)"
   ]
  },
  {
   "cell_type": "markdown",
   "id": "e525ec83-c406-4292-a656-3eedfa6b903b",
   "metadata": {},
   "source": [
    "¡OJO! El predicado de `my_filter` sólo puede recibir un parámetro (el elemento de la lista que está procesando). NO le puedes pasar por parámetro el límite (threshold). ¿Es eso un problema? ¿Por qué no?\n",
    "\n",
    "---------------"
   ]
  },
  {
   "cell_type": "markdown",
   "id": "6706bd88-e450-45c6-b657-664857574c9c",
   "metadata": {},
   "source": [
    "Trabajas en un clínica de estética (en el departamento de IT, of course) y lo priemro que se le hace a los clientes es calcular su [bmi](https://www.cdc.gov/healthyweight/assessing/bmi/index.html).\n",
    "\n",
    "![](https://calculatorsworld.com/health/wp-content/uploads/sites/4/bmi-chart-metric.png)\n",
    "\n",
    "Tu trabajo es recibir una lista con dichos valores y crear una nueva con aquellos que están **por debajo de 15** o **por encima de 40**. En esos casos se supone que puede haberse producido un error,y se tiene que volver a calcular.\n",
    "\n",
    "Crea una función que devuelve una lista con esos valores extremos. "
   ]
  },
  {
   "cell_type": "code",
   "execution_count": 65,
   "id": "defb255a-f545-47fb-824c-3f8455067282",
   "metadata": {},
   "outputs": [
    {
     "data": {
      "text/plain": [
       "[12, 45, 45, 13]"
      ]
     },
     "execution_count": 65,
     "metadata": {},
     "output_type": "execute_result"
    }
   ],
   "source": [
    "def is_extreme(bmi):\n",
    "    return bmi > 40 or bmi < 15\n",
    "        \n",
    "def extreme_bmis(list_of_bmis):\n",
    "    \"\"\"\n",
    "    Recibe una lista y devuelve otra lista con los valores de bmi que se consideran\n",
    "    sospechosos de ser un error por extremos (menor que 15 o mayor que 40)\n",
    "    \"\"\"\n",
    "    return filter_for(list_of_bmis, is_extreme)\n",
    "\n",
    "extreme_bmis([12, 45, 21, 23.4, 45, 24, 13, 26])"
   ]
  },
  {
   "cell_type": "markdown",
   "id": "53c0a29a-d9fc-4111-8bd1-34ba2f65f515",
   "metadata": {},
   "source": [
    "¡OJO! Hay dos maneras de hacerlo: con 1 sólo filtro o con dos filtros seguidos. Intenta hacerlo de las dos formas.\n",
    "\n",
    "----------------"
   ]
  },
  {
   "cell_type": "markdown",
   "id": "4f842b01-6ba9-4639-9e52-109dacd1e657",
   "metadata": {},
   "source": [
    "Tienes una lista de \"cosas\", como por ejemplo la siguiente:\n",
    "\n",
    "```\n",
    "[34, 'hola', False, [3,4,5], [None, None], [], ['grijandermoney'], 'EUR50']\n",
    "```\n",
    "\n",
    "Tu trabajo es dejar pasar todo lo que **no sea** una lista.\n",
    "\n",
    "Para ello, primero averigua qué hace la función [type](https://www.w3schools.com/python/ref_func_type.asp) de Python y asegúrate de entender las siguientes expresiones:"
   ]
  },
  {
   "cell_type": "code",
   "execution_count": 21,
   "id": "94e1bbce-8320-4948-939d-06ab383b2a90",
   "metadata": {},
   "outputs": [
    {
     "data": {
      "text/plain": [
       "int"
      ]
     },
     "execution_count": 21,
     "metadata": {},
     "output_type": "execute_result"
    }
   ],
   "source": [
    "type(34)"
   ]
  },
  {
   "cell_type": "code",
   "execution_count": 22,
   "id": "19c3fe01-bd01-42b2-84b7-a3a87251f049",
   "metadata": {},
   "outputs": [
    {
     "data": {
      "text/plain": [
       "list"
      ]
     },
     "execution_count": 22,
     "metadata": {},
     "output_type": "execute_result"
    }
   ],
   "source": [
    "type([3,4])"
   ]
  },
  {
   "cell_type": "code",
   "execution_count": 23,
   "id": "925097cb-37eb-4e53-80a6-e39c151a5608",
   "metadata": {},
   "outputs": [
    {
     "data": {
      "text/plain": [
       "list"
      ]
     },
     "execution_count": 23,
     "metadata": {},
     "output_type": "execute_result"
    }
   ],
   "source": [
    "type([])"
   ]
  },
  {
   "cell_type": "code",
   "execution_count": 24,
   "id": "d0959d78-c061-4dcb-88a5-4df321d22a8f",
   "metadata": {},
   "outputs": [
    {
     "data": {
      "text/plain": [
       "False"
      ]
     },
     "execution_count": 24,
     "metadata": {},
     "output_type": "execute_result"
    }
   ],
   "source": [
    "type([]) == int"
   ]
  },
  {
   "cell_type": "code",
   "execution_count": 25,
   "id": "8efdb903-4db9-465c-9a43-554a6592ec88",
   "metadata": {},
   "outputs": [
    {
     "data": {
      "text/plain": [
       "True"
      ]
     },
     "execution_count": 25,
     "metadata": {},
     "output_type": "execute_result"
    }
   ],
   "source": [
    "type([]) == list"
   ]
  },
  {
   "cell_type": "markdown",
   "id": "92fa421b-836c-4c56-aec0-2448af7f6c4e",
   "metadata": {},
   "source": [
    "Ahora, crea la función `lists_only` que recibe una lista de \"cosas\" y devuelve una nueva lista con todo aquello que no era una lista, eliminado.\n",
    "\n",
    "Es decir:\n",
    "\n",
    "```\n",
    "lists_only([34, 'hola', False, [3,4,5], [None, None], [], ['grijandermoney'], 'EUR50']) \n",
    "```\n",
    "\n",
    "devolverá\n",
    "\n",
    "```\n",
    "[ [3,4,5], [None, None], [], ['grijandermoney']]\n",
    "```\n",
    "\n",
    "---------"
   ]
  },
  {
   "cell_type": "markdown",
   "id": "a18f025c-2d98-4ec1-96e8-a229604bcd9e",
   "metadata": {},
   "source": [
    "Usando la función `lists_only`, crea una función `non_empty_lists` que devuelve una lista con aquellos elementos que són listas y que **además NO están vacías**.\n",
    "\n",
    "Para implementar `non_empty_lists` debes de llamar a `lists_only`.\n",
    "\n",
    "```\n",
    "non_empty_lists([34, 'hola', False, [3,4,5], [None, None], [], ['grijandermoney'], 'EUR50'])\n",
    "```\n",
    "\n",
    "devolverá\n",
    "\n",
    "```\n",
    "[ [3,4,5], [None, None],  ['grijandermoney'], ]\n",
    "```"
   ]
  },
  {
   "cell_type": "code",
   "execution_count": 67,
   "id": "47072ece-4ca4-4830-94c3-d5414750b2b4",
   "metadata": {},
   "outputs": [],
   "source": [
    "def lists_only(elements):\n",
    "    \"\"\"\n",
    "    Recibe un alista y saca todo elemento que no sea una lista\n",
    "    \"\"\"\n",
    "    return filter_for(elements, lambda x: type(x) == list)"
   ]
  },
  {
   "cell_type": "code",
   "execution_count": 68,
   "id": "cdf6456f-2e37-4720-bc32-11289c4a3ba0",
   "metadata": {},
   "outputs": [
    {
     "data": {
      "text/plain": [
       "[[3, 4, 5], [None, None], [], ['grijandermoney']]"
      ]
     },
     "execution_count": 68,
     "metadata": {},
     "output_type": "execute_result"
    }
   ],
   "source": [
    "lists_only([34, 'hola', False, [3,4,5], [None, None], [], ['grijandermoney'], 'EUR50'])"
   ]
  },
  {
   "cell_type": "code",
   "execution_count": 72,
   "id": "d413399e-7a9a-4a7a-864b-e19085ab1d6f",
   "metadata": {},
   "outputs": [],
   "source": [
    "def non_empty_lists(elements):\n",
    "    return filter_for(lists_only(elements), lambda x: len(x) > 0)"
   ]
  },
  {
   "cell_type": "code",
   "execution_count": 73,
   "id": "b1a2a02a-1a81-484d-81eb-6b85290fba20",
   "metadata": {},
   "outputs": [
    {
     "data": {
      "text/plain": [
       "[[3, 4, 5], [None, None], ['grijandermoney']]"
      ]
     },
     "execution_count": 73,
     "metadata": {},
     "output_type": "execute_result"
    }
   ],
   "source": [
    "non_empty_lists([34, 'hola', False, [3,4,5], [None, None], [], ['grijandermoney'], 'EUR50'])"
   ]
  },
  {
   "cell_type": "code",
   "execution_count": null,
   "id": "e31c83f3-5435-46c0-aa47-758ca52710cd",
   "metadata": {},
   "outputs": [],
   "source": []
  }
 ],
 "metadata": {
  "kernelspec": {
   "display_name": "Python 3 (ipykernel)",
   "language": "python",
   "name": "python3"
  },
  "language_info": {
   "codemirror_mode": {
    "name": "ipython",
    "version": 3
   },
   "file_extension": ".py",
   "mimetype": "text/x-python",
   "name": "python",
   "nbconvert_exporter": "python",
   "pygments_lexer": "ipython3",
   "version": "3.10.7"
  }
 },
 "nbformat": 4,
 "nbformat_minor": 5
}
