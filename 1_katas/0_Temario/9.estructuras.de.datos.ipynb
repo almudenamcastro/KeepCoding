{
 "cells": [
  {
   "cell_type": "markdown",
   "id": "b131b1da-0498-49c6-a313-f7c119b6a2b1",
   "metadata": {},
   "source": [
    "# Funciones hash\n",
    "\n",
    "Transformna un valor en un número entero.\n",
    "\n",
    "* rápida\n",
    "* dificil de dar marcha atrás\n",
    "* pocas \"colisiones\""
   ]
  },
  {
   "cell_type": "code",
   "execution_count": 4,
   "id": "93e5456b-2967-4150-b2dd-ac10c3529aae",
   "metadata": {},
   "outputs": [
    {
     "data": {
      "text/plain": [
       "<function hash(obj, /)>"
      ]
     },
     "execution_count": 4,
     "metadata": {},
     "output_type": "execute_result"
    }
   ],
   "source": [
    "hash"
   ]
  },
  {
   "cell_type": "code",
   "execution_count": 5,
   "id": "fe09bf57-7d87-4b71-b751-92a4308c4cee",
   "metadata": {},
   "outputs": [
    {
     "data": {
      "text/plain": [
       "-6020165402544248181"
      ]
     },
     "execution_count": 5,
     "metadata": {},
     "output_type": "execute_result"
    }
   ],
   "source": [
    "hash('iii')"
   ]
  },
  {
   "cell_type": "code",
   "execution_count": 6,
   "id": "f227fc23-59a7-4432-acbc-28a626674836",
   "metadata": {},
   "outputs": [
    {
     "data": {
      "text/plain": [
       "262115805481091892"
      ]
     },
     "execution_count": 6,
     "metadata": {},
     "output_type": "execute_result"
    }
   ],
   "source": [
    "hash('iiii')"
   ]
  },
  {
   "cell_type": "markdown",
   "id": "c1cfbe20-a11d-4b58-aebe-ec8df2d8a9df",
   "metadata": {},
   "source": [
    "# Set\n",
    "\n",
    "Un árbol binario de cosas, que las transformamos en un hash antes de guardarlas.\n"
   ]
  },
  {
   "cell_type": "code",
   "execution_count": 7,
   "id": "e7fd1f08-af98-4f59-9ff0-91c2ec49ed17",
   "metadata": {},
   "outputs": [],
   "source": [
    "vocales = {'a', 'e', 'i', 'o', 'u'}"
   ]
  },
  {
   "cell_type": "code",
   "execution_count": 8,
   "id": "dea63257-46fb-45b5-86be-65fb8d7d1461",
   "metadata": {},
   "outputs": [
    {
     "data": {
      "text/plain": [
       "{'a', 'e', 'i', 'o', 'u'}"
      ]
     },
     "execution_count": 8,
     "metadata": {},
     "output_type": "execute_result"
    }
   ],
   "source": [
    "vocales"
   ]
  },
  {
   "cell_type": "code",
   "execution_count": 11,
   "id": "772879d4-5c39-4906-9860-cf6d9670bc6e",
   "metadata": {},
   "outputs": [
    {
     "data": {
      "text/plain": [
       "False"
      ]
     },
     "execution_count": 11,
     "metadata": {},
     "output_type": "execute_result"
    }
   ],
   "source": [
    "9 in vocales"
   ]
  },
  {
   "cell_type": "code",
   "execution_count": null,
   "id": "e1d49e8e-2373-4bfe-86e6-b740e2825f64",
   "metadata": {},
   "outputs": [],
   "source": []
  }
 ],
 "metadata": {
  "kernelspec": {
   "display_name": "Python 3 (ipykernel)",
   "language": "python",
   "name": "python3"
  },
  "language_info": {
   "codemirror_mode": {
    "name": "ipython",
    "version": 3
   },
   "file_extension": ".py",
   "mimetype": "text/x-python",
   "name": "python",
   "nbconvert_exporter": "python",
   "pygments_lexer": "ipython3",
   "version": "3.10.7"
  }
 },
 "nbformat": 4,
 "nbformat_minor": 5
}
