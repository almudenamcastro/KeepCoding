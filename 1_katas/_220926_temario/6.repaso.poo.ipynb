{
 "cells": [
  {
   "cell_type": "markdown",
   "id": "7e297314-748c-4310-a684-4e68e269a374",
   "metadata": {},
   "source": [
    "# Repaso de POO\n",
    "\n",
    "Vamos a crear una applicación de tipo catálogo de personajes de Star Wars, algo similar a la [Wookiepedia](https://starwars.fandom.com/wiki/Wookieepedia).\n",
    "\n",
    "Crea una jerarquía de clases sencilla para representar los personajes de Star Wars. Los Jedis y los Sith entienden ambos el mensaje \"unsheathe\" (desenvaina) que muestra un sable láser. Los sables de los Sith y de Los Jedis son distintos."
   ]
  },
  {
   "cell_type": "code",
   "execution_count": 14,
   "id": "5ed9967b-54d3-4191-83e5-ac697aad0d89",
   "metadata": {},
   "outputs": [],
   "source": [
    "from enum import Enum\n",
    "\n",
    "class Affiliation(Enum):\n",
    "    REBEL_ALLIANCE = 0\n",
    "    GALACTIC_EMPIRE = 1\n",
    "    UNKNOWN = 2\n",
    "    \n"
   ]
  },
  {
   "cell_type": "code",
   "execution_count": 29,
   "id": "69be6fe6-5142-45c7-b545-187eb67bec7f",
   "metadata": {},
   "outputs": [],
   "source": [
    "class StarWarsCharacter(object):\n",
    "    def __init__(self, name, alias, affiliation):\n",
    "        \"\"\"\n",
    "        Crea un personaje con nombre y alias\n",
    "        \"\"\"\n",
    "        self.name = name\n",
    "        self.alias = alias\n",
    "        self.affiliation = affiliation\n",
    "        \n",
    "    def __repr__(self):\n",
    "        \"\"\"\n",
    "        Muestra una representación textual del objeto\n",
    "        \"\"\"\n",
    "        return f'<{self.__class__}: {self.name} {self.alias}>'\n",
    "        "
   ]
  },
  {
   "cell_type": "code",
   "execution_count": 25,
   "id": "c7e26924-48fd-494c-8031-e203d33112b2",
   "metadata": {},
   "outputs": [],
   "source": [
    "class ForceSensitive(StarWarsCharacter):\n",
    "    \"\"\"\n",
    "    Representa personajes sensibles a la Fuerza\n",
    "    \"\"\"\n",
    "    def __init__(self, name, alias, affiliation, midichlorians):\n",
    "        super().__init__(name, alias, affiliation)\n",
    "        self.midichlorians = midichlorians\n",
    "        \n",
    "    def unsheathe(self):\n",
    "        \"\"\"\n",
    "        Este método, solo sirve para que mis subclases lo entiendan y no tenga que repetirlo\n",
    "        \"\"\"\n",
    "        raise NotImplementedError()\n"
   ]
  },
  {
   "cell_type": "code",
   "execution_count": 11,
   "id": "4a7c674e-398d-417e-9602-c9e310255cdf",
   "metadata": {},
   "outputs": [],
   "source": [
    "chewie = StarWarsCharacter('Chewbacca', 'Chewie', Affiliation.REBEL_ALLIANCE)\n",
    "jabba = StarWarsCharacter('Jabba Dessilic Tiure', 'Jabba The Hutt', Affiliation.UNKNOWN)"
   ]
  },
  {
   "cell_type": "code",
   "execution_count": 12,
   "id": "91a7e03e-de89-4cb9-8951-d9ef6b1d5538",
   "metadata": {},
   "outputs": [
    {
     "ename": "TypeError",
     "evalue": "StarWarsCharacter.__init__() missing 1 required positional argument: 'affiliation'",
     "output_type": "error",
     "traceback": [
      "\u001b[0;31m---------------------------------------------------------------------------\u001b[0m",
      "\u001b[0;31mTypeError\u001b[0m                                 Traceback (most recent call last)",
      "Input \u001b[0;32mIn [12]\u001b[0m, in \u001b[0;36m<cell line: 1>\u001b[0;34m()\u001b[0m\n\u001b[0;32m----> 1\u001b[0m \u001b[43mStarWarsCharacter\u001b[49m\u001b[43m(\u001b[49m\u001b[38;5;124;43m'\u001b[39;49m\u001b[38;5;124;43mChewbacca\u001b[39;49m\u001b[38;5;124;43m'\u001b[39;49m\u001b[43m,\u001b[49m\u001b[43m \u001b[49m\u001b[38;5;124;43m'\u001b[39;49m\u001b[38;5;124;43mChewie\u001b[39;49m\u001b[38;5;124;43m'\u001b[39;49m\u001b[43m)\u001b[49m\n",
      "\u001b[0;31mTypeError\u001b[0m: StarWarsCharacter.__init__() missing 1 required positional argument: 'affiliation'"
     ]
    }
   ],
   "source": [
    "StarWarsCharacter('Chewbacca', 'Chewie')"
   ]
  },
  {
   "cell_type": "code",
   "execution_count": null,
   "id": "df3e6208-797a-41b3-99ba-665eff70a388",
   "metadata": {},
   "outputs": [],
   "source": [
    "[chewie, jabba]"
   ]
  },
  {
   "cell_type": "markdown",
   "id": "c1a95b57-f127-433a-a1e1-75b47d0efbb4",
   "metadata": {},
   "source": [
    "##  `__repr__`\n",
    "\n",
    "Representación textual de un objeto. Muy bueno cuando estás depurando."
   ]
  },
  {
   "cell_type": "markdown",
   "id": "ad33eed8-3ce0-41e9-8bc8-e69ba0880135",
   "metadata": {},
   "source": [
    "## Subclases de ForceSensitive: Jedi"
   ]
  },
  {
   "cell_type": "code",
   "execution_count": 36,
   "id": "6749df1f-b5a9-42ee-b2c7-df7b261c91ea",
   "metadata": {},
   "outputs": [],
   "source": [
    "class Jedi(ForceSensitive):\n",
    "    \n",
    "    @classmethod\n",
    "    def padawan(cls, name, alias):\n",
    "        return cls(name, alias, 10)\n",
    "    \n",
    "    @classmethod\n",
    "    def master(cls, name, alias):\n",
    "        \"\"\"\n",
    "        Crea un maestro jedi (con 100K midichlorianos)\n",
    "        \"\"\"\n",
    "        return cls(name, alias, 100000)\n",
    "    \n",
    "    def __init__(self, name, alias, midichlorians):\n",
    "        super().__init__(name, alias, Affiliation.REBEL_ALLIANCE, midichlorians)\n",
    "        \n",
    "    def unsheathe(self):\n",
    "        return '▐▍░▐░░▣░▒░▒░▒▕|' + \"█\" * 40\n",
    "    \n",
    "    "
   ]
  },
  {
   "cell_type": "code",
   "execution_count": 19,
   "id": "7f3154ea-4207-4d43-92a4-13f09a7900fc",
   "metadata": {},
   "outputs": [],
   "source": [
    "yoda = Jedi(alias = 'Master Yoda', name='Minch Yoda', midichlorians = 10000000)"
   ]
  },
  {
   "cell_type": "code",
   "execution_count": null,
   "id": "8ee7f6c4-1045-469b-83b9-ccc83eb55a90",
   "metadata": {},
   "outputs": [],
   "source": [
    "yoda"
   ]
  },
  {
   "cell_type": "code",
   "execution_count": null,
   "id": "428456d3-6c25-4e62-8605-90003959d422",
   "metadata": {},
   "outputs": [],
   "source": [
    "(yoda, chewie)"
   ]
  },
  {
   "cell_type": "markdown",
   "id": "fdde3767-60e8-468c-952f-f149f1857fdb",
   "metadata": {},
   "source": [
    "## Subclases de StarWarsCharacter: Sith"
   ]
  },
  {
   "cell_type": "code",
   "execution_count": 41,
   "id": "4a3af82a-9667-4d30-a952-c93b97ac766d",
   "metadata": {},
   "outputs": [],
   "source": [
    "class Sith(ForceSensitive):\n",
    "    \n",
    "    @classmethod\n",
    "    def darkLord(cls, name, alias):\n",
    "        return cls(name, alias, 120000)\n",
    "    \n",
    "    def __init__(self, name, alias, midichlorians):\n",
    "        super().__init__(name, alias, Affiliation.GALACTIC_EMPIRE, midichlorians)\n",
    "        \n",
    "    def unsheathe(self):\n",
    "        return '▔▔▔▔▔▔▔▔▔▝▔▔▔ ' + \"█\" * 40\n",
    "    "
   ]
  },
  {
   "cell_type": "code",
   "execution_count": null,
   "id": "a1142146-065b-4b86-93cd-65843260dec6",
   "metadata": {},
   "outputs": [],
   "source": [
    "'▔▔▔▔▔▔▔▔▔▝▔▔▔ ' + \"█\" * 40\n"
   ]
  },
  {
   "cell_type": "code",
   "execution_count": 27,
   "id": "81a718a6-f597-4ab2-acb4-9060cd4bdfe7",
   "metadata": {},
   "outputs": [],
   "source": [
    "luke = Jedi('Luke Skywalker', 'Luke', 1000000)"
   ]
  },
  {
   "cell_type": "code",
   "execution_count": null,
   "id": "149b5d84-96b2-4d21-8b9b-ea3ddc0038ee",
   "metadata": {},
   "outputs": [],
   "source": [
    "palpatine= Sith('Palpatine', 'Darth Sidious', 1000000)"
   ]
  },
  {
   "cell_type": "code",
   "execution_count": null,
   "id": "a67389bf-aa34-4a3a-923f-516fe85a94c0",
   "metadata": {},
   "outputs": [],
   "source": [
    "luke.unsheathe()"
   ]
  },
  {
   "cell_type": "code",
   "execution_count": null,
   "id": "83050e02-b369-4e21-9812-19707310c965",
   "metadata": {},
   "outputs": [],
   "source": [
    "palpatine.unsheathe()"
   ]
  },
  {
   "cell_type": "code",
   "execution_count": 28,
   "id": "cc8bd712-8d10-43e6-a246-feb89fa8867a",
   "metadata": {},
   "outputs": [
    {
     "data": {
      "text/plain": [
       "<__main__.Jedi at 0x7fea01d9b2b0>"
      ]
     },
     "execution_count": 28,
     "metadata": {},
     "output_type": "execute_result"
    }
   ],
   "source": [
    "luke"
   ]
  },
  {
   "cell_type": "code",
   "execution_count": 23,
   "id": "f0e4c66d-c4d8-4ab8-97af-a02f3db5ac7b",
   "metadata": {},
   "outputs": [
    {
     "name": "stdout",
     "output_type": "stream",
     "text": [
      "<<class '__main__.Jedi'>: Luke Skywalker Luke>\n"
     ]
    }
   ],
   "source": [
    "print(luke)"
   ]
  },
  {
   "cell_type": "code",
   "execution_count": 34,
   "id": "15136f9f-c978-4a1d-8a63-7f5ace748d78",
   "metadata": {},
   "outputs": [],
   "source": [
    "yoda = Jedi.master('Minch Yoda', 'Master Yoda')"
   ]
  },
  {
   "cell_type": "code",
   "execution_count": 33,
   "id": "358df171-f33a-4d5e-b4c9-182fe4c60812",
   "metadata": {},
   "outputs": [
    {
     "data": {
      "text/plain": [
       "'▐▍░▐░░▣░▒░▒░▒▕|████████████████████████████████████████'"
      ]
     },
     "execution_count": 33,
     "metadata": {},
     "output_type": "execute_result"
    }
   ],
   "source": [
    "yoda.unsheathe()"
   ]
  },
  {
   "cell_type": "code",
   "execution_count": 37,
   "id": "d7312c09-67cf-4e80-b4fe-fb0321f57fb0",
   "metadata": {},
   "outputs": [],
   "source": [
    "anakin = Jedi.padawan('Anakin Skywalker', 'Ani')"
   ]
  },
  {
   "cell_type": "code",
   "execution_count": 38,
   "id": "385b594d-058b-4995-9eae-aacf98b73945",
   "metadata": {},
   "outputs": [
    {
     "data": {
      "text/plain": [
       "10"
      ]
     },
     "execution_count": 38,
     "metadata": {},
     "output_type": "execute_result"
    }
   ],
   "source": [
    "anakin.midichlorians"
   ]
  },
  {
   "cell_type": "code",
   "execution_count": 42,
   "id": "44ae3c5f-077d-45a9-a26a-ec3919758108",
   "metadata": {},
   "outputs": [
    {
     "data": {
      "text/plain": [
       "<__main__.Sith at 0x7fe9df4870a0>"
      ]
     },
     "execution_count": 42,
     "metadata": {},
     "output_type": "execute_result"
    }
   ],
   "source": [
    "Sith.darkLord('Anakin', 'Darth Vader')"
   ]
  },
  {
   "cell_type": "code",
   "execution_count": null,
   "id": "ca932b14-e703-4467-a2ca-8fc438834f4b",
   "metadata": {},
   "outputs": [],
   "source": []
  }
 ],
 "metadata": {
  "kernelspec": {
   "display_name": "Python 3 (ipykernel)",
   "language": "python",
   "name": "python3"
  },
  "language_info": {
   "codemirror_mode": {
    "name": "ipython",
    "version": 3
   },
   "file_extension": ".py",
   "mimetype": "text/x-python",
   "name": "python",
   "nbconvert_exporter": "python",
   "pygments_lexer": "ipython3",
   "version": "3.10.7"
  }
 },
 "nbformat": 4,
 "nbformat_minor": 5
}
